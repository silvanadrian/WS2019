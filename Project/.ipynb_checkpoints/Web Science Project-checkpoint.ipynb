{
 "cells": [
  {
   "cell_type": "markdown",
   "metadata": {},
   "source": [
    "# Web Science Project"
   ]
  },
  {
   "cell_type": "markdown",
   "metadata": {},
   "source": [
    "## Random Forest classifier"
   ]
  },
  {
   "cell_type": "code",
   "execution_count": 2,
   "metadata": {},
   "outputs": [],
   "source": [
    "#Imports\n",
    "import pandas as pd\n",
    "import numpy as np\n",
    "from sklearn.feature_extraction.text import CountVectorizer\n",
    "from sklearn.ensemble import RandomForestClassifier\n",
    "\n",
    "questions = pd.read_csv(\"data/train_dataset.csv\", header=None, encoding=\"iso-8859-1\", sep=\";\")\n",
    "\n",
    "# Name columns\n",
    "questions.columns = ['id', 'question', 'answer', 'topic']"
   ]
  },
  {
   "cell_type": "code",
   "execution_count": 4,
   "metadata": {
    "scrolled": true
   },
   "outputs": [
    {
     "name": "stdout",
     "output_type": "stream",
     "text": [
      "3675\n",
      "155.84244897959184\n",
      "65.00327103848835\n"
     ]
    }
   ],
   "source": [
    "#Music Questions\n",
    "music = questions[questions['topic'] == 'music']\n",
    "print(len(music.index))\n",
    "music.loc[:, 'question_length'] = music.loc[:,'question'].apply(len)\n",
    "music.loc[:, 'answer_length'] = music.loc[:,'question'].apply(len)\n",
    "print(np.mean(music['question_length']))\n",
    "print(np.std(music['question_length']))"
   ]
  },
  {
   "cell_type": "code",
   "execution_count": 5,
   "metadata": {},
   "outputs": [
    {
     "name": "stdout",
     "output_type": "stream",
     "text": [
      "2357\n",
      "139.90666100975815\n",
      "50.6033325978995\n"
     ]
    }
   ],
   "source": [
    "# Sport Questions\n",
    "sports = questions[questions['topic'] == 'sports']\n",
    "print(len(sports.index))\n",
    "sports.loc[:, 'question_length'] = sports.loc[:,'question'].apply(len)\n",
    "sports.loc[:, 'answer_length'] = sports.loc[:,'question'].apply(len)\n",
    "print(np.mean(sports['question_length']))\n",
    "print(np.std(sports['question_length']))"
   ]
  },
  {
   "cell_type": "code",
   "execution_count": 6,
   "metadata": {},
   "outputs": [
    {
     "name": "stdout",
     "output_type": "stream",
     "text": [
      "1844\n",
      "135.76030368763557\n",
      "53.10247763862941\n"
     ]
    }
   ],
   "source": [
    "#Science Questions\n",
    "science = questions[questions['topic'] == 'science-technology']\n",
    "print(len(science.index))\n",
    "science.loc[:, 'question_length'] = science.loc[:,'question'].apply(len)\n",
    "science.loc[:, 'answer_length'] = science.loc[:,'question'].apply(len)\n",
    "print(np.mean(science['question_length']))\n",
    "print(np.std(science['question_length']))"
   ]
  },
  {
   "cell_type": "code",
   "execution_count": 7,
   "metadata": {},
   "outputs": [
    {
     "name": "stdout",
     "output_type": "stream",
     "text": [
      "574\n",
      "133.1567944250871\n",
      "51.9573312024634\n"
     ]
    }
   ],
   "source": [
    "# Kids Questions\n",
    "kids = questions[questions['topic'] == 'for-kids']\n",
    "print(len(kids.index))\n",
    "kids.loc[:, 'question_length'] = kids.loc[:,'question'].apply(len)\n",
    "kids.loc[:, 'answer_length'] = kids.loc[:,'question'].apply(len)\n",
    "print(np.mean(kids['question_length']))\n",
    "print(np.std(kids['question_length']))"
   ]
  },
  {
   "cell_type": "code",
   "execution_count": 8,
   "metadata": {},
   "outputs": [
    {
     "name": "stdout",
     "output_type": "stream",
     "text": [
      "463\n",
      "118.54211663066954\n",
      "34.718706988572016\n"
     ]
    }
   ],
   "source": [
    "# Game questions\n",
    "games = questions[questions['topic'] == 'video-games']\n",
    "print(len(games.index))\n",
    "games.loc[:, 'question_length'] = games.loc[:,'question'].apply(len)\n",
    "games.loc[:, 'answer_length'] = games.loc[:,'question'].apply(len)\n",
    "print(np.mean(games['question_length']))\n",
    "print(np.std(games['question_length']))"
   ]
  },
  {
   "cell_type": "code",
   "execution_count": 43,
   "metadata": {},
   "outputs": [],
   "source": [
    "# Classifier Model (Random Forest)\n",
    "\n",
    "questions['question'] = questions['question'].str.replace('[^\\w\\s]','')\n",
    "questions['answer'] = questions['answer'].str.replace('[^\\w\\s]','')\n",
    "\n",
    "# 80% , 10%, 10%\n",
    "train, validate, test = np.split(questions.sample(frac=1), [int(.8 * len(questions)), int(.9 * len(questions))])\n",
    "\n",
    "y = train[['topic']]\n",
    "\n",
    "vectorizer = CountVectorizer(analyzer=\"word\")\n",
    "vectorizer.fit(train['question'], train['answer'])\n",
    "train_data_features = vectorizer.transform(train['question']).toarray() + vectorizer.transform(train['answer']).toarray()\n",
    "\n",
    "forest = RandomForestClassifier(n_estimators = 300)\n",
    "forest = forest.fit(train_data_features, y['topic'])"
   ]
  },
  {
   "cell_type": "code",
   "execution_count": 30,
   "metadata": {},
   "outputs": [],
   "source": [
    "# Test Data\n",
    "test_data_features = vectorizer.transform(test['question']).toarray() + vectorizer.transform(test['answer']).toarray()\n",
    "\n",
    "result = forest.predict(test_data_features)\n",
    "output = pd.DataFrame(data={\"id\":test[\"id\"], \"topic\":result})\n",
    "output.to_csv('final.csv', index=False)\n",
    " # print(output)"
   ]
  },
  {
   "cell_type": "code",
   "execution_count": 46,
   "metadata": {},
   "outputs": [],
   "source": [
    "from sklearn.metrics import accuracy_score,recall_score,confusion_matrix\n",
    "# print(accuracy_score(test[\"topic\"],result))"
   ]
  },
  {
   "cell_type": "markdown",
   "metadata": {},
   "source": [
    "## Neural Classifier"
   ]
  },
  {
   "cell_type": "code",
   "execution_count": null,
   "metadata": {},
   "outputs": [],
   "source": []
  },
  {
   "cell_type": "markdown",
   "metadata": {},
   "source": [
    "## Crowdsourcing classification "
   ]
  },
  {
   "cell_type": "code",
   "execution_count": 47,
   "metadata": {},
   "outputs": [
    {
     "name": "stdout",
     "output_type": "stream",
     "text": [
      "    id                                           question  \\\n",
      "0    0  Which food contain more vitamin C; A lemon or ...   \n",
      "1    0                   What is the largest human organ?   \n",
      "2    0  How many dwarf planets are in the solar system...   \n",
      "3    0  In which country were the first Olympic Games ...   \n",
      "4    0  Which is the only country to have played in ea...   \n",
      "5    0  Which popular fitness method was invented by a...   \n",
      "6    0  What is the name of the cartoon where there ar...   \n",
      "7    0       Who is the worldÃ¢ÂÂs largest land animal?   \n",
      "8    0                 How many colours are in a rainbow?   \n",
      "9    0                      Where is the group abba from?   \n",
      "10   0  Which one direction member left the group in 2...   \n",
      "11   0  What singer holds the world record for most wo...   \n",
      "12   0                        What year did Wii come out?   \n",
      "13   0  What is the highest selling video game console...   \n",
      "14   0  What is the first female fighting game charact...   \n",
      "15   0                      How many weeks are in a year?   \n",
      "16   0                 What is the smallest prime number?   \n",
      "17   0       What is the heaviest organ in the human body   \n",
      "18   0           How many members are in a football team?   \n",
      "19   0                   Where is the birthplace of golf?   \n",
      "20   0  Which football player keeps the highest goal s...   \n",
      "21   0                   Who wrote the little match girl?   \n",
      "22   0           What is the name of Cinderella's prince?   \n",
      "23   0  Is yellow one of the standard additive primary...   \n",
      "24   0  What is the birth country of FrÃÂ©dÃÂ©ric Ch...   \n",
      "\n",
      "                 answer difficulty  opinion  factuality  \n",
      "0                 lemon     Medium        1           0  \n",
      "1                  skin     Medium        3           0  \n",
      "2                     1       Hard        2           0  \n",
      "3                Greece     Medium        3           0  \n",
      "4                 Spain       Hard        2           0  \n",
      "5                             Hard        2           0  \n",
      "6   The PowerPuff Girls       Hard        3           0  \n",
      "7              Elephant     Medium        3           0  \n",
      "8                     7       Easy        2           0  \n",
      "9                           Medium        2           0  \n",
      "10                 Zayn       Hard        2           0  \n",
      "11               Eminem     Medium        2           0  \n",
      "12                 2009     Medium        2           0  \n",
      "13                  PS4     Medium        2           0  \n",
      "14                            Hard        3           0  \n",
      "15                   53     Medium        2           0  \n",
      "16                    2     Medium        3           0  \n",
      "17                brain     Medium        3           0  \n",
      "18                   11       Easy        1           1  \n",
      "19                            Hard        1           0  \n",
      "20                            Hard        1           0  \n",
      "21                          Medium        2           0  \n",
      "22                          Medium        2           0  \n",
      "23                  yes       Easy        2           0  \n",
      "24                          Medium        2           0  \n"
     ]
    }
   ],
   "source": [
    "generated_questions = pd.read_csv(\"data/sample_crowdsourcing.tsv\", encoding=\"ISO-8859-1\", delimiter=\"\\t\", na_filter=False)\n",
    "generated_questions.columns = ['id', 'question', 'answer', 'difficulty', 'opinion', 'factuality']\n",
    "\n",
    "print(generated_questions.head(5))\n",
    "\n",
    "generated_questions[\"opinion\"] = pd.to_numeric(generated_questions[\"opinion\"], errors='coerce')\n",
    "generated_questions[\"factuality\"] = pd.to_numeric(generated_questions[\"factuality\"], errors='coerce')\n",
    "\n",
    "# generated_questions[\"opinion\"] = generated_questions['opinion'].astype('int')\n",
    "\n",
    "# grouped_questions = generated_questions.groupby(['question'])\n",
    "\n",
    "generated_question = generated_questions.groupby('question').filter(lambda x: x['factuality'].sum() < 1)\n",
    "\n",
    "def majority(arr):\n",
    "    (values,counts) = np.unique(arr,return_counts=True)\n",
    "    ind=np.argmax(counts)\n",
    "    if len(values[counts == counts.max()]) > 1:\n",
    "        return sum(values[counts == counts.max()])\n",
    "    else:\n",
    "        return values[ind]\n",
    "        \n",
    "\n",
    "# print(generated_questions.dtypes)\n",
    "# print(generated_questions.head(7))\n",
    "\n",
    "# print(generated_questions.groupby(['question'])['difficulty'].agg(majority))\n",
    "\n",
    "generated_data_features = vectorizer.transform(generated_question['question']).toarray() + vectorizer.transform(generated_question['answer']).toarray()\n",
    "result = forest.predict(generated_data_features)\n",
    "output = pd.DataFrame(data={\"id\":generated_question[\"id\"], \"question\":generated_question[\"question\"], \"answer\":generated_question[\"answer\"], \"difficulty\":generated_question[\"difficulty\"], \"opinion\":generated_question[\"opinion\"], \"factuality\":generated_question[\"factuality\"], \"topic\":result})\n",
    "output.to_csv('generated.csv',encoding='utf-8', index=False)\n"
   ]
  },
  {
   "cell_type": "code",
   "execution_count": null,
   "metadata": {},
   "outputs": [],
   "source": []
  },
  {
   "cell_type": "code",
   "execution_count": null,
   "metadata": {},
   "outputs": [],
   "source": []
  }
 ],
 "metadata": {
  "kernelspec": {
   "display_name": "Python 3",
   "language": "python",
   "name": "python3"
  },
  "language_info": {
   "codemirror_mode": {
    "name": "ipython",
    "version": 3
   },
   "file_extension": ".py",
   "mimetype": "text/x-python",
   "name": "python",
   "nbconvert_exporter": "python",
   "pygments_lexer": "ipython3",
   "version": "3.7.1"
  }
 },
 "nbformat": 4,
 "nbformat_minor": 2
}
