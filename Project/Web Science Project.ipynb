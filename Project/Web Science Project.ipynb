{
 "cells": [
  {
   "cell_type": "markdown",
   "metadata": {},
   "source": [
    "# Web Science Project"
   ]
  },
  {
   "cell_type": "code",
   "execution_count": 2,
   "metadata": {},
   "outputs": [],
   "source": [
    "#Imports\n",
    "import pandas as pd\n",
    "import numpy as np\n",
    "from sklearn.feature_extraction.text import CountVectorizer\n",
    "from sklearn.ensemble import RandomForestClassifier\n",
    "\n",
    "questions = pd.read_csv(\"data/train_dataset.csv\", header=None, encoding=\"iso-8859-1\", sep=\";\")\n",
    "questions = pd.read_csv(\"data/train_dataset.csv\", header=None, encoding=\"iso-8859-1\", sep=\";\")\n",
    "\n",
    "# Name columns\n",
    "questions.columns = ['id', 'question', 'answer', 'topic']"
   ]
  },
  {
   "cell_type": "code",
   "execution_count": 24,
   "metadata": {
    "scrolled": true
   },
   "outputs": [
    {
     "name": "stdout",
     "output_type": "stream",
     "text": [
      "3675\n",
      "140.95292517006803\n",
      "62.87046797300033\n"
     ]
    }
   ],
   "source": [
    "#Music Questions\n",
    "music = questions[questions['topic'] == 'music']\n",
    "print(len(music.index))\n",
    "music.loc[:, 'question_length'] = music.loc[:,'question'].apply(len)\n",
    "music.loc[:, 'answer_length'] = music.loc[:,'question'].apply(len)\n",
    "print(np.mean(music['question_length']))\n",
    "print(np.std(music['question_length']))"
   ]
  },
  {
   "cell_type": "code",
   "execution_count": 23,
   "metadata": {},
   "outputs": [
    {
     "name": "stdout",
     "output_type": "stream",
     "text": [
      "2357\n",
      "125.7759864234196\n",
      "48.75447270511\n"
     ]
    }
   ],
   "source": [
    "# Sport Questions\n",
    "sports = questions[questions['topic'] == 'sports']\n",
    "print(len(sports.index))\n",
    "sports.loc[:, 'question_length'] = sports.loc[:,'question'].apply(len)\n",
    "sports.loc[:, 'answer_length'] = sports.loc[:,'question'].apply(len)\n",
    "print(np.mean(sports['question_length']))\n",
    "print(np.std(sports['question_length']))"
   ]
  },
  {
   "cell_type": "code",
   "execution_count": 20,
   "metadata": {},
   "outputs": [
    {
     "name": "stdout",
     "output_type": "stream",
     "text": [
      "1844\n",
      "121.56290672451193\n",
      "51.604755739934326\n"
     ]
    }
   ],
   "source": [
    "#Science Questions\n",
    "science = questions[questions['topic'] == 'science-technology']\n",
    "print(len(science.index))\n",
    "science.loc[:, 'question_length'] = science.loc[:,'question'].apply(len)\n",
    "science.loc[:, 'answer_length'] = science.loc[:,'question'].apply(len)\n",
    "print(np.mean(science['question_length']))\n",
    "print(np.std(science['question_length']))"
   ]
  },
  {
   "cell_type": "code",
   "execution_count": 21,
   "metadata": {},
   "outputs": [
    {
     "name": "stdout",
     "output_type": "stream",
     "text": [
      "574\n",
      "119.66550522648083\n",
      "50.15196031761321\n"
     ]
    }
   ],
   "source": [
    "# Kids Questions\n",
    "kids = questions[questions['topic'] == 'for-kids']\n",
    "print(len(kids.index))\n",
    "kids.loc[:, 'question_length'] = kids.loc[:,'question'].apply(len)\n",
    "kids.loc[:, 'answer_length'] = kids.loc[:,'question'].apply(len)\n",
    "print(np.mean(kids['question_length']))\n",
    "print(np.std(kids['question_length']))"
   ]
  },
  {
   "cell_type": "code",
   "execution_count": 22,
   "metadata": {},
   "outputs": [
    {
     "name": "stdout",
     "output_type": "stream",
     "text": [
      "463\n",
      "105.50107991360692\n",
      "32.9691835123161\n"
     ]
    }
   ],
   "source": [
    "# Game questions\n",
    "games = questions[questions['topic'] == 'video-games']\n",
    "print(len(games.index))\n",
    "games.loc[:, 'question_length'] = games.loc[:,'question'].apply(len)\n",
    "games.loc[:, 'answer_length'] = games.loc[:,'question'].apply(len)\n",
    "print(np.mean(games['question_length']))\n",
    "print(np.std(games['question_length']))"
   ]
  },
  {
   "cell_type": "code",
   "execution_count": 18,
   "metadata": {},
   "outputs": [],
   "source": [
    "# Classifier Model (Random Forrest)\n",
    "\n",
    "questions['question'] = questions['question'].str.replace('[^\\w\\s]','')\n",
    "questions['answer'] = questions['answer'].str.replace('[^\\w\\s]','')\n",
    "\n",
    "train, validate, test = np.split(questions.sample(frac=1), [int(.8 * len(questions)), int(.9 * len(questions))])\n",
    "\n",
    "y = train[['topic']]\n",
    "\n",
    "vectorizer = CountVectorizer(analyzer=\"word\", max_features=8913)\n",
    "vectorizer.fit(train['question'])\n",
    "train_data_features = vectorizer.transform(train['question']).toarray()\n",
    "\n",
    "forest = RandomForestClassifier(n_estimators = 150)\n",
    "forest = forest.fit(train_data_features, y['topic'])"
   ]
  },
  {
   "cell_type": "code",
   "execution_count": 15,
   "metadata": {},
   "outputs": [
    {
     "name": "stdout",
     "output_type": "stream",
     "text": [
      "        id               topic\n",
      "8682  8682               music\n",
      "7314  7314               music\n",
      "2334  2334            for-kids\n",
      "7044  7044               music\n",
      "7883  7883               music\n",
      "3737  3737              sports\n",
      "4297  4297  science-technology\n",
      "3732  3732              sports\n",
      "5819  5819               music\n",
      "4820  4820              sports\n",
      "7486  7486               music\n",
      "6789  6789              sports\n",
      "2443  2443         video-games\n",
      "8770  8770               music\n",
      "5120  5120              sports\n",
      "8184  8184               music\n",
      "8760  8760               music\n",
      "4        4  science-technology\n",
      "1199  1199               music\n",
      "6406  6406               music\n",
      "8093  8093               music\n",
      "4650  4650              sports\n",
      "1366  1366  science-technology\n",
      "7638  7638               music\n",
      "8853  8853               music\n",
      "1296  1296               music\n",
      "6803  6803               music\n",
      "8468  8468               music\n",
      "8167  8167               music\n",
      "2849  2849         video-games\n",
      "...    ...                 ...\n",
      "7952  7952               music\n",
      "4075  4075              sports\n",
      "3668  3668              sports\n",
      "7524  7524               music\n",
      "353    353  science-technology\n",
      "8574  8574               music\n",
      "7327  7327               music\n",
      "5856  5856               music\n",
      "4607  4607              sports\n",
      "1142  1142  science-technology\n",
      "521    521               music\n",
      "1371  1371  science-technology\n",
      "8631  8631               music\n",
      "1057  1057  science-technology\n",
      "728    728  science-technology\n",
      "2354  2354               music\n",
      "345    345  science-technology\n",
      "4307  4307              sports\n",
      "2855  2855         video-games\n",
      "3817  3817              sports\n",
      "5745  5745               music\n",
      "1914  1914              sports\n",
      "8046  8046               music\n",
      "2269  2269            for-kids\n",
      "5090  5090              sports\n",
      "5456  5456               music\n",
      "1921  1921  science-technology\n",
      "5431  5431               music\n",
      "6371  6371               music\n",
      "1675  1675  science-technology\n",
      "\n",
      "[892 rows x 2 columns]\n"
     ]
    }
   ],
   "source": [
    "# Test Data\n",
    "test_data_features = vectorizer.transform(test['question']).toarray()\n",
    "\n",
    "result = forest.predict(test_data_features)\n",
    "output = pd.DataFrame(data={\"id\":test[\"id\"], \"topic\":result})\n",
    "output.to_csv('final.csv', index=False, quoting=3)\n",
    "print(output)"
   ]
  }
 ],
 "metadata": {
  "kernelspec": {
   "display_name": "Python 3",
   "language": "python",
   "name": "python3"
  },
  "language_info": {
   "codemirror_mode": {
    "name": "ipython",
    "version": 3
   },
   "file_extension": ".py",
   "mimetype": "text/x-python",
   "name": "python",
   "nbconvert_exporter": "python",
   "pygments_lexer": "ipython3",
   "version": "3.7.1"
  }
 },
 "nbformat": 4,
 "nbformat_minor": 2
}
