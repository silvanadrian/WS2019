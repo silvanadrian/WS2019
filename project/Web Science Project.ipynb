{
 "cells": [
  {
   "cell_type": "markdown",
   "metadata": {},
   "source": [
    "# Web Science Project"
   ]
  },
  {
   "cell_type": "markdown",
   "metadata": {},
   "source": [
    "## Random Forest classifier"
   ]
  },
  {
   "cell_type": "code",
   "execution_count": 73,
   "metadata": {},
   "outputs": [
    {
     "ename": "ModuleNotFoundError",
     "evalue": "No module named 'nltk'",
     "output_type": "error",
     "traceback": [
      "\u001b[0;31m---------------------------------------------------------------------------\u001b[0m",
      "\u001b[0;31mModuleNotFoundError\u001b[0m                       Traceback (most recent call last)",
      "\u001b[0;32m<ipython-input-73-17b72ffaef87>\u001b[0m in \u001b[0;36m<module>\u001b[0;34m\u001b[0m\n\u001b[1;32m      4\u001b[0m \u001b[0;32mfrom\u001b[0m \u001b[0msklearn\u001b[0m\u001b[0;34m.\u001b[0m\u001b[0mfeature_extraction\u001b[0m\u001b[0;34m.\u001b[0m\u001b[0mtext\u001b[0m \u001b[0;32mimport\u001b[0m \u001b[0mCountVectorizer\u001b[0m\u001b[0;34m\u001b[0m\u001b[0;34m\u001b[0m\u001b[0m\n\u001b[1;32m      5\u001b[0m \u001b[0;32mfrom\u001b[0m \u001b[0msklearn\u001b[0m\u001b[0;34m.\u001b[0m\u001b[0mensemble\u001b[0m \u001b[0;32mimport\u001b[0m \u001b[0mRandomForestClassifier\u001b[0m\u001b[0;34m\u001b[0m\u001b[0;34m\u001b[0m\u001b[0m\n\u001b[0;32m----> 6\u001b[0;31m \u001b[0;32mfrom\u001b[0m \u001b[0mnltk\u001b[0m\u001b[0;34m.\u001b[0m\u001b[0mcorpus\u001b[0m \u001b[0;32mimport\u001b[0m \u001b[0mstopwords\u001b[0m\u001b[0;34m\u001b[0m\u001b[0;34m\u001b[0m\u001b[0m\n\u001b[0m\u001b[1;32m      7\u001b[0m \u001b[0;34m\u001b[0m\u001b[0m\n\u001b[1;32m      8\u001b[0m \u001b[0mquestions\u001b[0m \u001b[0;34m=\u001b[0m \u001b[0mpd\u001b[0m\u001b[0;34m.\u001b[0m\u001b[0mread_csv\u001b[0m\u001b[0;34m(\u001b[0m\u001b[0;34m\"data/train_dataset.csv\"\u001b[0m\u001b[0;34m,\u001b[0m \u001b[0mheader\u001b[0m\u001b[0;34m=\u001b[0m\u001b[0;32mNone\u001b[0m\u001b[0;34m,\u001b[0m \u001b[0mencoding\u001b[0m\u001b[0;34m=\u001b[0m\u001b[0;34m\"iso-8859-1\"\u001b[0m\u001b[0;34m,\u001b[0m \u001b[0msep\u001b[0m\u001b[0;34m=\u001b[0m\u001b[0;34m\";\"\u001b[0m\u001b[0;34m)\u001b[0m\u001b[0;34m\u001b[0m\u001b[0;34m\u001b[0m\u001b[0m\n",
      "\u001b[0;31mModuleNotFoundError\u001b[0m: No module named 'nltk'"
     ]
    }
   ],
   "source": [
    "#Imports\n",
    "import pandas as pd\n",
    "import numpy as np\n",
    "from sklearn.feature_extraction.text import CountVectorizer\n",
    "from sklearn.ensemble import RandomForestClassifier\n",
    "from nltk.corpus import stopwords\n",
    "\n",
    "questions = pd.read_csv(\"data/train_dataset.csv\", header=None, encoding=\"iso-8859-1\", sep=\";\")\n",
    "\n",
    "# Name columns\n",
    "questions.columns = ['id', 'question', 'answer', 'topic']"
   ]
  },
  {
   "cell_type": "code",
   "execution_count": 2,
   "metadata": {
    "scrolled": true
   },
   "outputs": [
    {
     "name": "stdout",
     "output_type": "stream",
     "text": [
      "3675\n",
      "155.84244897959184\n",
      "65.00327103848835\n"
     ]
    },
    {
     "name": "stderr",
     "output_type": "stream",
     "text": [
      "/usr/local/lib/python3.7/site-packages/pandas/core/indexing.py:362: SettingWithCopyWarning: \n",
      "A value is trying to be set on a copy of a slice from a DataFrame.\n",
      "Try using .loc[row_indexer,col_indexer] = value instead\n",
      "\n",
      "See the caveats in the documentation: http://pandas.pydata.org/pandas-docs/stable/indexing.html#indexing-view-versus-copy\n",
      "  self.obj[key] = _infer_fill_value(value)\n",
      "/usr/local/lib/python3.7/site-packages/pandas/core/indexing.py:543: SettingWithCopyWarning: \n",
      "A value is trying to be set on a copy of a slice from a DataFrame.\n",
      "Try using .loc[row_indexer,col_indexer] = value instead\n",
      "\n",
      "See the caveats in the documentation: http://pandas.pydata.org/pandas-docs/stable/indexing.html#indexing-view-versus-copy\n",
      "  self.obj[item] = s\n"
     ]
    }
   ],
   "source": [
    "#Music Questions\n",
    "music = questions[questions['topic'] == 'music']\n",
    "print(len(music.index))\n",
    "music.loc[:, 'question_length'] = music.loc[:,'question'].apply(len)\n",
    "music.loc[:, 'answer_length'] = music.loc[:,'question'].apply(len)\n",
    "print(np.mean(music['question_length']))\n",
    "print(np.std(music['question_length']))"
   ]
  },
  {
   "cell_type": "code",
   "execution_count": 3,
   "metadata": {},
   "outputs": [
    {
     "name": "stdout",
     "output_type": "stream",
     "text": [
      "2357\n",
      "139.90666100975815\n",
      "50.6033325978995\n"
     ]
    }
   ],
   "source": [
    "# Sport Questions\n",
    "sports = questions[questions['topic'] == 'sports']\n",
    "print(len(sports.index))\n",
    "sports.loc[:, 'question_length'] = sports.loc[:,'question'].apply(len)\n",
    "sports.loc[:, 'answer_length'] = sports.loc[:,'question'].apply(len)\n",
    "print(np.mean(sports['question_length']))\n",
    "print(np.std(sports['question_length']))"
   ]
  },
  {
   "cell_type": "code",
   "execution_count": 4,
   "metadata": {},
   "outputs": [
    {
     "name": "stdout",
     "output_type": "stream",
     "text": [
      "1844\n",
      "135.76030368763557\n",
      "53.10247763862941\n"
     ]
    }
   ],
   "source": [
    "#Science Questions\n",
    "science = questions[questions['topic'] == 'science-technology']\n",
    "print(len(science.index))\n",
    "science.loc[:, 'question_length'] = science.loc[:,'question'].apply(len)\n",
    "science.loc[:, 'answer_length'] = science.loc[:,'question'].apply(len)\n",
    "print(np.mean(science['question_length']))\n",
    "print(np.std(science['question_length']))"
   ]
  },
  {
   "cell_type": "code",
   "execution_count": 5,
   "metadata": {},
   "outputs": [
    {
     "name": "stdout",
     "output_type": "stream",
     "text": [
      "574\n",
      "133.1567944250871\n",
      "51.9573312024634\n"
     ]
    }
   ],
   "source": [
    "# Kids Questions\n",
    "kids = questions[questions['topic'] == 'for-kids']\n",
    "print(len(kids.index))\n",
    "kids.loc[:, 'question_length'] = kids.loc[:,'question'].apply(len)\n",
    "kids.loc[:, 'answer_length'] = kids.loc[:,'question'].apply(len)\n",
    "print(np.mean(kids['question_length']))\n",
    "print(np.std(kids['question_length']))"
   ]
  },
  {
   "cell_type": "code",
   "execution_count": 6,
   "metadata": {},
   "outputs": [
    {
     "name": "stdout",
     "output_type": "stream",
     "text": [
      "463\n",
      "118.54211663066954\n",
      "34.718706988572016\n"
     ]
    }
   ],
   "source": [
    "# Game questions\n",
    "games = questions[questions['topic'] == 'video-games']\n",
    "print(len(games.index))\n",
    "games.loc[:, 'question_length'] = games.loc[:,'question'].apply(len)\n",
    "games.loc[:, 'answer_length'] = games.loc[:,'question'].apply(len)\n",
    "print(np.mean(games['question_length']))\n",
    "print(np.std(games['question_length']))"
   ]
  },
  {
   "cell_type": "code",
   "execution_count": 72,
   "metadata": {},
   "outputs": [],
   "source": [
    "# Classifier Model (Random Forest)\n",
    "\n",
    "# 80% , 10%, 10%\n",
    "train, validate, test = np.split(questions.sample(frac=1), [int(.8 * len(questions)), int(.9 * len(questions))])\n",
    "\n",
    "train['question'] = train['question'].str.replace('[^\\w\\s]','')\n",
    "train['answer'] = train['answer'].str.replace('[^\\w\\s]','')\n",
    "\n",
    "y = train[['topic']]\n",
    "\n",
    "vectorizer = CountVectorizer(analyzer=\"word\")\n",
    "vectorizer.fit(train['question'], train['answer'])\n",
    "train_data_features = vectorizer.transform(train['question']).toarray() + vectorizer.transform(train['answer']).toarray()\n",
    "\n",
    "forest = RandomForestClassifier(n_estimators = 300)\n",
    "forest = forest.fit(train_data_features, y['topic'])"
   ]
  },
  {
   "cell_type": "code",
   "execution_count": 8,
   "metadata": {},
   "outputs": [],
   "source": [
    "# Test Data\n",
    "test_data_features = vectorizer.transform(test['question']).toarray() + vectorizer.transform(test['answer']).toarray()\n",
    "\n",
    "result = forest.predict(test_data_features)\n",
    "output = pd.DataFrame(data={\"id\":test[\"id\"], \"topic\":result})\n",
    "output.to_csv('final.csv', index=False)\n",
    " # print(output)"
   ]
  },
  {
   "cell_type": "code",
   "execution_count": 9,
   "metadata": {},
   "outputs": [],
   "source": [
    "from sklearn.metrics import accuracy_score,recall_score,confusion_matrix\n",
    "# print(accuracy_score(test[\"topic\"],result))"
   ]
  },
  {
   "cell_type": "markdown",
   "metadata": {},
   "source": [
    "## Neural Classifier"
   ]
  },
  {
   "cell_type": "code",
   "execution_count": 71,
   "metadata": {},
   "outputs": [
    {
     "name": "stdout",
     "output_type": "stream",
     "text": [
      "_________________________________________________________________\n",
      "Layer (type)                 Output Shape              Param #   \n",
      "=================================================================\n",
      "dense_66 (Dense)             (None, 512)               51712     \n",
      "_________________________________________________________________\n",
      "activation_19 (Activation)   (None, 512)               0         \n",
      "_________________________________________________________________\n",
      "dropout_10 (Dropout)         (None, 512)               0         \n",
      "_________________________________________________________________\n",
      "dense_67 (Dense)             (None, 5)                 2565      \n",
      "_________________________________________________________________\n",
      "activation_20 (Activation)   (None, 5)                 0         \n",
      "=================================================================\n",
      "Total params: 54,277\n",
      "Trainable params: 54,277\n",
      "Non-trainable params: 0\n",
      "_________________________________________________________________\n",
      "Epoch 1/2\n",
      "7130/7130 [==============================] - 1s 114us/step - loss: 1.4486 - acc: 0.4058\n",
      "Epoch 2/2\n",
      "7130/7130 [==============================] - 0s 28us/step - loss: 1.3189 - acc: 0.4456\n",
      "Training Accuracy: 0.4569\n",
      "Testing Accuracy:  0.4417\n"
     ]
    }
   ],
   "source": [
    "from sklearn.preprocessing import LabelEncoder\n",
    "\n",
    "import keras\n",
    "from keras.models import Sequential\n",
    "from keras.layers import Dense, Activation, Dropout\n",
    "from keras.preprocessing import text, sequence\n",
    "from keras import utils\n",
    "\n",
    "tokenizer = Tokenizer(num_words=1000)\n",
    "tokenizer.fit_on_texts(train['question'])\n",
    "\n",
    "X_train = tokenizer.texts_to_matrix(train['question'])\n",
    "X_test = tokenizer.texts_to_matrix(test['question'])\n",
    "\n",
    "vocab_size = len(tokenizer.word_index) + 1  # Adding 1 because of reserved 0 index\n",
    "\n",
    "from keras.preprocessing.sequence import pad_sequences\n",
    "\n",
    "maxlen = 100\n",
    "\n",
    "X_train = pad_sequences(X_train, padding='post', maxlen=maxlen)\n",
    "X_test = pad_sequences(X_test, padding='post', maxlen=maxlen)\n",
    "\n",
    "\n",
    "\n",
    "from keras.models import Sequential\n",
    "from keras import layers\n",
    "\n",
    "max_words = 100\n",
    "\n",
    "model = Sequential()\n",
    "model.add(Dense(512, input_shape=(max_words,)))\n",
    "model.add(Activation('relu'))\n",
    "model.add(Dropout(0.5))\n",
    "model.add(Dense(num_classes))\n",
    "model.add(Activation('softmax'))\n",
    "model.compile(optimizer='adam',\n",
    "              loss='categorical_crossentropy',\n",
    "              metrics=['accuracy'])\n",
    "model.summary()\n",
    "\n",
    "\n",
    "encoder = LabelEncoder()\n",
    "encoder.fit(train[\"topic\"])\n",
    "y_train = encoder.transform(train[\"topic\"])\n",
    "y_test = encoder.transform(test[\"topic\"])\n",
    "\n",
    "\n",
    "\n",
    "num_classes = 5\n",
    "y_train = utils.to_categorical(y_train, num_classes)\n",
    "y_test = utils.to_categorical(y_test, num_classes)\n",
    "\n",
    "model.fit(X_train, y_train, epochs=2, batch_size=128)\n",
    "\n",
    "loss, accuracy = model.evaluate(X_train, y_train, verbose=False)\n",
    "print(\"Training Accuracy: {:.4f}\".format(accuracy))\n",
    "loss, accuracy = model.evaluate(X_test, y_test, verbose=False)\n",
    "print(\"Testing Accuracy:  {:.4f}\".format(accuracy))\n"
   ]
  },
  {
   "cell_type": "code",
   "execution_count": 64,
   "metadata": {},
   "outputs": [
    {
     "name": "stdout",
     "output_type": "stream",
     "text": [
      "# of Training Samples: 7130\n",
      "# of Test Samples: 892\n",
      "# of Classes: 5\n"
     ]
    },
    {
     "ename": "TypeError",
     "evalue": "'>=' not supported between instances of 'str' and 'int'",
     "output_type": "error",
     "traceback": [
      "\u001b[0;31m---------------------------------------------------------------------------\u001b[0m",
      "\u001b[0;31mTypeError\u001b[0m                                 Traceback (most recent call last)",
      "\u001b[0;32m<ipython-input-64-a4f28432d7c1>\u001b[0m in \u001b[0;36m<module>\u001b[0;34m\u001b[0m\n\u001b[1;32m     25\u001b[0m \u001b[0;34m\u001b[0m\u001b[0m\n\u001b[1;32m     26\u001b[0m \u001b[0mtokenizer\u001b[0m \u001b[0;34m=\u001b[0m \u001b[0mTokenizer\u001b[0m\u001b[0;34m(\u001b[0m\u001b[0mnum_words\u001b[0m\u001b[0;34m=\u001b[0m\u001b[0mmax_words\u001b[0m\u001b[0;34m)\u001b[0m\u001b[0;34m\u001b[0m\u001b[0;34m\u001b[0m\u001b[0m\n\u001b[0;32m---> 27\u001b[0;31m \u001b[0mx_train\u001b[0m \u001b[0;34m=\u001b[0m \u001b[0mtokenizer\u001b[0m\u001b[0;34m.\u001b[0m\u001b[0msequences_to_matrix\u001b[0m\u001b[0;34m(\u001b[0m\u001b[0mx_train\u001b[0m\u001b[0;34m,\u001b[0m \u001b[0mmode\u001b[0m\u001b[0;34m=\u001b[0m\u001b[0;34m'binary'\u001b[0m\u001b[0;34m)\u001b[0m\u001b[0;34m\u001b[0m\u001b[0;34m\u001b[0m\u001b[0m\n\u001b[0m\u001b[1;32m     28\u001b[0m \u001b[0mx_test\u001b[0m \u001b[0;34m=\u001b[0m \u001b[0mtokenizer\u001b[0m\u001b[0;34m.\u001b[0m\u001b[0msequences_to_matrix\u001b[0m\u001b[0;34m(\u001b[0m\u001b[0mx_test\u001b[0m\u001b[0;34m,\u001b[0m \u001b[0mmode\u001b[0m\u001b[0;34m=\u001b[0m\u001b[0;34m'binary'\u001b[0m\u001b[0;34m)\u001b[0m\u001b[0;34m\u001b[0m\u001b[0;34m\u001b[0m\u001b[0m\n\u001b[1;32m     29\u001b[0m \u001b[0;34m\u001b[0m\u001b[0m\n",
      "\u001b[0;32m/usr/local/lib/python3.7/site-packages/keras_preprocessing/text.py\u001b[0m in \u001b[0;36msequences_to_matrix\u001b[0;34m(self, sequences, mode)\u001b[0m\n\u001b[1;32m    415\u001b[0m             \u001b[0mcounts\u001b[0m \u001b[0;34m=\u001b[0m \u001b[0mdefaultdict\u001b[0m\u001b[0;34m(\u001b[0m\u001b[0mint\u001b[0m\u001b[0;34m)\u001b[0m\u001b[0;34m\u001b[0m\u001b[0;34m\u001b[0m\u001b[0m\n\u001b[1;32m    416\u001b[0m             \u001b[0;32mfor\u001b[0m \u001b[0mj\u001b[0m \u001b[0;32min\u001b[0m \u001b[0mseq\u001b[0m\u001b[0;34m:\u001b[0m\u001b[0;34m\u001b[0m\u001b[0;34m\u001b[0m\u001b[0m\n\u001b[0;32m--> 417\u001b[0;31m                 \u001b[0;32mif\u001b[0m \u001b[0mj\u001b[0m \u001b[0;34m>=\u001b[0m \u001b[0mnum_words\u001b[0m\u001b[0;34m:\u001b[0m\u001b[0;34m\u001b[0m\u001b[0;34m\u001b[0m\u001b[0m\n\u001b[0m\u001b[1;32m    418\u001b[0m                     \u001b[0;32mcontinue\u001b[0m\u001b[0;34m\u001b[0m\u001b[0;34m\u001b[0m\u001b[0m\n\u001b[1;32m    419\u001b[0m                 \u001b[0mcounts\u001b[0m\u001b[0;34m[\u001b[0m\u001b[0mj\u001b[0m\u001b[0;34m]\u001b[0m \u001b[0;34m+=\u001b[0m \u001b[0;36m1\u001b[0m\u001b[0;34m\u001b[0m\u001b[0;34m\u001b[0m\u001b[0m\n",
      "\u001b[0;31mTypeError\u001b[0m: '>=' not supported between instances of 'str' and 'int'"
     ]
    }
   ],
   "source": []
  },
  {
   "cell_type": "markdown",
   "metadata": {},
   "source": [
    "## Crowdsourcing classification "
   ]
  },
  {
   "cell_type": "code",
   "execution_count": null,
   "metadata": {},
   "outputs": [],
   "source": [
    "generated_questions = pd.read_csv(\"data/sample_crowdsourcing.tsv\", encoding=\"ISO-8859-1\", delimiter=\"\\t\", na_filter=False)\n",
    "generated_questions.columns = ['id', 'question', 'answer', 'difficulty', 'opinion', 'factuality']\n",
    "\n",
    "print(generated_questions.head(5))\n",
    "\n",
    "generated_questions[\"opinion\"] = pd.to_numeric(generated_questions[\"opinion\"], errors='coerce')\n",
    "generated_questions[\"factuality\"] = pd.to_numeric(generated_questions[\"factuality\"], errors='coerce')\n",
    "\n",
    "# generated_questions[\"opinion\"] = generated_questions['opinion'].astype('int')\n",
    "\n",
    "# grouped_questions = generated_questions.groupby(['question'])\n",
    "\n",
    "generated_question = generated_questions.groupby('question').filter(lambda x: x['factuality'].sum() < 1)\n",
    "\n",
    "def majority(arr):\n",
    "    (values,counts) = np.unique(arr,return_counts=True)\n",
    "    ind=np.argmax(counts)\n",
    "    if len(values[counts == counts.max()]) > 1:\n",
    "        return sum(values[counts == counts.max()])\n",
    "    else:\n",
    "        return values[ind]\n",
    "        \n",
    "\n",
    "# print(generated_questions.dtypes)\n",
    "# print(generated_questions.head(7))\n",
    "\n",
    "# print(generated_questions.groupby(['question'])['difficulty'].agg(majority))\n",
    "\n",
    "generated_data_features = vectorizer.transform(generated_question['question']).toarray() + vectorizer.transform(generated_question['answer']).toarray()\n",
    "result = forest.predict(generated_data_features)\n",
    "output = pd.DataFrame(data={\"id\":generated_question[\"id\"], \"question\":generated_question[\"question\"], \"answer\":generated_question[\"answer\"], \"difficulty\":generated_question[\"difficulty\"], \"opinion\":generated_question[\"opinion\"], \"factuality\":generated_question[\"factuality\"], \"topic\":result})\n",
    "output.to_csv('generated.csv',encoding='utf-8', index=False)\n"
   ]
  },
  {
   "cell_type": "code",
   "execution_count": null,
   "metadata": {},
   "outputs": [],
   "source": []
  },
  {
   "cell_type": "code",
   "execution_count": null,
   "metadata": {},
   "outputs": [],
   "source": []
  }
 ],
 "metadata": {
  "kernelspec": {
   "display_name": "Python 3",
   "language": "python",
   "name": "python3"
  },
  "language_info": {
   "codemirror_mode": {
    "name": "ipython",
    "version": 3
   },
   "file_extension": ".py",
   "mimetype": "text/x-python",
   "name": "python",
   "nbconvert_exporter": "python",
   "pygments_lexer": "ipython3",
   "version": "3.7.1"
  }
 },
 "nbformat": 4,
 "nbformat_minor": 2
}
